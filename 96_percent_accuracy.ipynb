{
  "cells": [
    {
      "cell_type": "code",
      "execution_count": 3,
      "id": "80863e57",
      "metadata": {
        "id": "80863e57"
      },
      "outputs": [],
      "source": [
        "import os\n",
        "import cv2"
      ]
    },
    {
      "cell_type": "code",
      "execution_count": 4,
      "id": "3c04d1d3",
      "metadata": {
        "id": "3c04d1d3"
      },
      "outputs": [],
      "source": [
        "images = []\n",
        "labels = []"
      ]
    },
    {
      "cell_type": "code",
      "execution_count": 5,
      "id": "ztd4mgn9zqOv",
      "metadata": {
        "colab": {
          "base_uri": "https://localhost:8080/"
        },
        "id": "ztd4mgn9zqOv",
        "outputId": "bea5d552-f241-406e-80b5-c67a1d8579f2"
      },
      "outputs": [
        {
          "name": "stdout",
          "output_type": "stream",
          "text": [
            "Found existing installation: kaggle 1.5.12\n",
            "Uninstalling kaggle-1.5.12:\n",
            "  Successfully uninstalled kaggle-1.5.12\n",
            "Requirement already satisfied: pip in /usr/local/lib/python3.7/dist-packages (21.1.3)\n",
            "Collecting pip\n",
            "  Downloading pip-21.3.1-py3-none-any.whl (1.7 MB)\n",
            "\u001b[K     |████████████████████████████████| 1.7 MB 4.1 MB/s \n",
            "\u001b[?25hInstalling collected packages: pip\n",
            "  Attempting uninstall: pip\n",
            "    Found existing installation: pip 21.1.3\n",
            "    Uninstalling pip-21.1.3:\n",
            "      Successfully uninstalled pip-21.1.3\n",
            "Successfully installed pip-21.3.1\n",
            "Collecting kaggle==1.5.6\n",
            "  Downloading kaggle-1.5.6.tar.gz (58 kB)\n",
            "     |████████████████████████████████| 58 kB 2.7 MB/s             \n",
            "\u001b[?25h  Preparing metadata (setup.py) ... \u001b[?25l\u001b[?25hdone\n",
            "Requirement already satisfied: urllib3<1.25,>=1.21.1 in /usr/local/lib/python3.7/dist-packages (from kaggle==1.5.6) (1.24.3)\n",
            "Requirement already satisfied: six>=1.10 in /usr/local/lib/python3.7/dist-packages (from kaggle==1.5.6) (1.15.0)\n",
            "Requirement already satisfied: certifi in /usr/local/lib/python3.7/dist-packages (from kaggle==1.5.6) (2021.10.8)\n",
            "Requirement already satisfied: python-dateutil in /usr/local/lib/python3.7/dist-packages (from kaggle==1.5.6) (2.8.2)\n",
            "Requirement already satisfied: requests in /usr/local/lib/python3.7/dist-packages (from kaggle==1.5.6) (2.23.0)\n",
            "Requirement already satisfied: tqdm in /usr/local/lib/python3.7/dist-packages (from kaggle==1.5.6) (4.62.3)\n",
            "Requirement already satisfied: python-slugify in /usr/local/lib/python3.7/dist-packages (from kaggle==1.5.6) (5.0.2)\n",
            "Requirement already satisfied: text-unidecode>=1.3 in /usr/local/lib/python3.7/dist-packages (from python-slugify->kaggle==1.5.6) (1.3)\n",
            "Requirement already satisfied: chardet<4,>=3.0.2 in /usr/local/lib/python3.7/dist-packages (from requests->kaggle==1.5.6) (3.0.4)\n",
            "Requirement already satisfied: idna<3,>=2.5 in /usr/local/lib/python3.7/dist-packages (from requests->kaggle==1.5.6) (2.10)\n",
            "Building wheels for collected packages: kaggle\n",
            "  Building wheel for kaggle (setup.py) ... \u001b[?25l\u001b[?25hdone\n",
            "  Created wheel for kaggle: filename=kaggle-1.5.6-py3-none-any.whl size=72857 sha256=c415366c10ee6b039e41d29c8c4bbf110ef86da52f96d1f99929309c6d12c87a\n",
            "  Stored in directory: /root/.cache/pip/wheels/aa/e7/e7/eb3c3d514c33294d77ddd5a856bdd58dc9c1fabbed59a02a2b\n",
            "Successfully built kaggle\n",
            "Installing collected packages: kaggle\n",
            "Successfully installed kaggle-1.5.6\n",
            "\u001b[33mWARNING: Running pip as the 'root' user can result in broken permissions and conflicting behaviour with the system package manager. It is recommended to use a virtual environment instead: https://pip.pypa.io/warnings/venv\u001b[0m\n"
          ]
        }
      ],
      "source": [
        "!pip uninstall -y kaggle\n",
        "!pip install --upgrade pip\n",
        "!pip install kaggle==1.5.6"
      ]
    },
    {
      "cell_type": "code",
      "execution_count": 6,
      "id": "OJTSgL8EzqIy",
      "metadata": {
        "colab": {
          "base_uri": "https://localhost:8080/"
        },
        "id": "OJTSgL8EzqIy",
        "outputId": "6a95f3f6-53d1-4c08-a13a-e02337c7857b"
      },
      "outputs": [
        {
          "name": "stdout",
          "output_type": "stream",
          "text": [
            "Downloading fake-image-classification-challenge.zip to /content\n",
            " 97% 587M/608M [00:24<00:01, 18.7MB/s]\n",
            "100% 608M/608M [00:24<00:00, 26.4MB/s]\n"
          ]
        }
      ],
      "source": [
        "import os\n",
        "os.environ['KAGGLE_USERNAME'] = \"*\" # username from the json file\n",
        "os.environ['KAGGLE_KEY'] = \"**\" # Provide your key from the json file\n",
        "!kaggle competitions download -c fake-image-classification-challenge # api copied from kaggle"
      ]
    },
    {
      "cell_type": "code",
      "execution_count": 7,
      "id": "xz1IKMd_zqFf",
      "metadata": {
        "colab": {
          "base_uri": "https://localhost:8080/"
        },
        "id": "xz1IKMd_zqFf",
        "outputId": "140c1be8-64e0-456c-ce36-7ce2df24f0b7"
      },
      "outputs": [
        {
          "name": "stdout",
          "output_type": "stream",
          "text": [
            "done\n"
          ]
        }
      ],
      "source": [
        "from zipfile import ZipFile\n",
        "\n",
        "file_name = \"/content/fake-image-classification-challenge.zip\"\n",
        "\n",
        "with ZipFile(file_name, 'r') as zip:\n",
        "  zip.extractall()\n",
        "  print('done')"
      ]
    },
    {
      "cell_type": "code",
      "execution_count": 8,
      "id": "sDYk1lEg0T4J",
      "metadata": {
        "colab": {
          "base_uri": "https://localhost:8080/"
        },
        "id": "sDYk1lEg0T4J",
        "outputId": "762ff9ed-a336-440d-fae4-3a4f71933261"
      },
      "outputs": [
        {
          "name": "stdout",
          "output_type": "stream",
          "text": [
            "Requirement already satisfied: tensorflow in /usr/local/lib/python3.7/dist-packages (2.7.0)\n",
            "Requirement already satisfied: grpcio<2.0,>=1.24.3 in /usr/local/lib/python3.7/dist-packages (from tensorflow) (1.42.0)\n",
            "Requirement already satisfied: keras-preprocessing>=1.1.1 in /usr/local/lib/python3.7/dist-packages (from tensorflow) (1.1.2)\n",
            "Requirement already satisfied: tensorflow-estimator<2.8,~=2.7.0rc0 in /usr/local/lib/python3.7/dist-packages (from tensorflow) (2.7.0)\n",
            "Requirement already satisfied: protobuf>=3.9.2 in /usr/local/lib/python3.7/dist-packages (from tensorflow) (3.17.3)\n",
            "Requirement already satisfied: tensorflow-io-gcs-filesystem>=0.21.0 in /usr/local/lib/python3.7/dist-packages (from tensorflow) (0.22.0)\n",
            "Requirement already satisfied: six>=1.12.0 in /usr/local/lib/python3.7/dist-packages (from tensorflow) (1.15.0)\n",
            "Requirement already satisfied: absl-py>=0.4.0 in /usr/local/lib/python3.7/dist-packages (from tensorflow) (0.12.0)\n",
            "Requirement already satisfied: astunparse>=1.6.0 in /usr/local/lib/python3.7/dist-packages (from tensorflow) (1.6.3)\n",
            "Requirement already satisfied: h5py>=2.9.0 in /usr/local/lib/python3.7/dist-packages (from tensorflow) (3.1.0)\n",
            "Requirement already satisfied: wrapt>=1.11.0 in /usr/local/lib/python3.7/dist-packages (from tensorflow) (1.13.3)\n",
            "Requirement already satisfied: google-pasta>=0.1.1 in /usr/local/lib/python3.7/dist-packages (from tensorflow) (0.2.0)\n",
            "Requirement already satisfied: typing-extensions>=3.6.6 in /usr/local/lib/python3.7/dist-packages (from tensorflow) (3.10.0.2)\n",
            "Requirement already satisfied: flatbuffers<3.0,>=1.12 in /usr/local/lib/python3.7/dist-packages (from tensorflow) (2.0)\n",
            "Requirement already satisfied: termcolor>=1.1.0 in /usr/local/lib/python3.7/dist-packages (from tensorflow) (1.1.0)\n",
            "Requirement already satisfied: keras<2.8,>=2.7.0rc0 in /usr/local/lib/python3.7/dist-packages (from tensorflow) (2.7.0)\n",
            "Requirement already satisfied: libclang>=9.0.1 in /usr/local/lib/python3.7/dist-packages (from tensorflow) (12.0.0)\n",
            "Requirement already satisfied: tensorboard~=2.6 in /usr/local/lib/python3.7/dist-packages (from tensorflow) (2.7.0)\n",
            "Requirement already satisfied: opt-einsum>=2.3.2 in /usr/local/lib/python3.7/dist-packages (from tensorflow) (3.3.0)\n",
            "Requirement already satisfied: gast<0.5.0,>=0.2.1 in /usr/local/lib/python3.7/dist-packages (from tensorflow) (0.4.0)\n",
            "Requirement already satisfied: wheel<1.0,>=0.32.0 in /usr/local/lib/python3.7/dist-packages (from tensorflow) (0.37.0)\n",
            "Requirement already satisfied: numpy>=1.14.5 in /usr/local/lib/python3.7/dist-packages (from tensorflow) (1.19.5)\n",
            "Requirement already satisfied: cached-property in /usr/local/lib/python3.7/dist-packages (from h5py>=2.9.0->tensorflow) (1.5.2)\n",
            "Requirement already satisfied: google-auth-oauthlib<0.5,>=0.4.1 in /usr/local/lib/python3.7/dist-packages (from tensorboard~=2.6->tensorflow) (0.4.6)\n",
            "Requirement already satisfied: markdown>=2.6.8 in /usr/local/lib/python3.7/dist-packages (from tensorboard~=2.6->tensorflow) (3.3.6)\n",
            "Requirement already satisfied: werkzeug>=0.11.15 in /usr/local/lib/python3.7/dist-packages (from tensorboard~=2.6->tensorflow) (1.0.1)\n",
            "Requirement already satisfied: setuptools>=41.0.0 in /usr/local/lib/python3.7/dist-packages (from tensorboard~=2.6->tensorflow) (57.4.0)\n",
            "Requirement already satisfied: tensorboard-data-server<0.7.0,>=0.6.0 in /usr/local/lib/python3.7/dist-packages (from tensorboard~=2.6->tensorflow) (0.6.1)\n",
            "Requirement already satisfied: requests<3,>=2.21.0 in /usr/local/lib/python3.7/dist-packages (from tensorboard~=2.6->tensorflow) (2.23.0)\n",
            "Requirement already satisfied: tensorboard-plugin-wit>=1.6.0 in /usr/local/lib/python3.7/dist-packages (from tensorboard~=2.6->tensorflow) (1.8.0)\n",
            "Requirement already satisfied: google-auth<3,>=1.6.3 in /usr/local/lib/python3.7/dist-packages (from tensorboard~=2.6->tensorflow) (1.35.0)\n",
            "Requirement already satisfied: cachetools<5.0,>=2.0.0 in /usr/local/lib/python3.7/dist-packages (from google-auth<3,>=1.6.3->tensorboard~=2.6->tensorflow) (4.2.4)\n",
            "Requirement already satisfied: pyasn1-modules>=0.2.1 in /usr/local/lib/python3.7/dist-packages (from google-auth<3,>=1.6.3->tensorboard~=2.6->tensorflow) (0.2.8)\n",
            "Requirement already satisfied: rsa<5,>=3.1.4 in /usr/local/lib/python3.7/dist-packages (from google-auth<3,>=1.6.3->tensorboard~=2.6->tensorflow) (4.8)\n",
            "Requirement already satisfied: requests-oauthlib>=0.7.0 in /usr/local/lib/python3.7/dist-packages (from google-auth-oauthlib<0.5,>=0.4.1->tensorboard~=2.6->tensorflow) (1.3.0)\n",
            "Requirement already satisfied: importlib-metadata>=4.4 in /usr/local/lib/python3.7/dist-packages (from markdown>=2.6.8->tensorboard~=2.6->tensorflow) (4.8.2)\n",
            "Requirement already satisfied: certifi>=2017.4.17 in /usr/local/lib/python3.7/dist-packages (from requests<3,>=2.21.0->tensorboard~=2.6->tensorflow) (2021.10.8)\n",
            "Requirement already satisfied: chardet<4,>=3.0.2 in /usr/local/lib/python3.7/dist-packages (from requests<3,>=2.21.0->tensorboard~=2.6->tensorflow) (3.0.4)\n",
            "Requirement already satisfied: urllib3!=1.25.0,!=1.25.1,<1.26,>=1.21.1 in /usr/local/lib/python3.7/dist-packages (from requests<3,>=2.21.0->tensorboard~=2.6->tensorflow) (1.24.3)\n",
            "Requirement already satisfied: idna<3,>=2.5 in /usr/local/lib/python3.7/dist-packages (from requests<3,>=2.21.0->tensorboard~=2.6->tensorflow) (2.10)\n",
            "Requirement already satisfied: zipp>=0.5 in /usr/local/lib/python3.7/dist-packages (from importlib-metadata>=4.4->markdown>=2.6.8->tensorboard~=2.6->tensorflow) (3.6.0)\n",
            "Requirement already satisfied: pyasn1<0.5.0,>=0.4.6 in /usr/local/lib/python3.7/dist-packages (from pyasn1-modules>=0.2.1->google-auth<3,>=1.6.3->tensorboard~=2.6->tensorflow) (0.4.8)\n",
            "Requirement already satisfied: oauthlib>=3.0.0 in /usr/local/lib/python3.7/dist-packages (from requests-oauthlib>=0.7.0->google-auth-oauthlib<0.5,>=0.4.1->tensorboard~=2.6->tensorflow) (3.1.1)\n",
            "\u001b[33mWARNING: Running pip as the 'root' user can result in broken permissions and conflicting behaviour with the system package manager. It is recommended to use a virtual environment instead: https://pip.pypa.io/warnings/venv\u001b[0m\n"
          ]
        }
      ],
      "source": [
        "!pip install tensorflow"
      ]
    },
    {
      "cell_type": "code",
      "execution_count": 9,
      "id": "TrCLScQR0MVU",
      "metadata": {
        "id": "TrCLScQR0MVU"
      },
      "outputs": [],
      "source": [
        "import cv2\n",
        "import numpy as np\n",
        "import os\n",
        "from keras.preprocessing.image import ImageDataGenerator\n",
        "from keras import backend as K\n",
        "import keras\n",
        "from keras.models import Sequential, Model,load_model\n",
        "from tensorflow.keras.optimizers import SGD\n",
        "from keras.callbacks import EarlyStopping,ModelCheckpoint\n",
        "from google.colab.patches import cv2_imshow\n",
        "from keras.layers import Input, Add, Dense, Activation, ZeroPadding2D, BatchNormalization, Flatten, Conv2D, AveragePooling2D, MaxPooling2D, GlobalMaxPooling2D,MaxPool2D\n",
        "from keras.preprocessing import image\n",
        "from keras.initializers import glorot_uniform"
      ]
    },
    {
      "cell_type": "code",
      "execution_count": 10,
      "id": "F4f6rLNEHH21",
      "metadata": {
        "colab": {
          "base_uri": "https://localhost:8080/"
        },
        "id": "F4f6rLNEHH21",
        "outputId": "74619b2a-58d7-43c0-b89a-7fe8aecb17fa"
      },
      "outputs": [
        {
          "name": "stdout",
          "output_type": "stream",
          "text": [
            "Inside folder  fake\n",
            "Inside folder  real\n"
          ]
        }
      ],
      "source": [
        "# face_cascade = cv2.CascadeClassifier('C:/Users/Murtaza Hasan/Desktop/Artificial Intelligence/haarcascade_frontalface_default.xml')\n",
        "for i in ['fake', 'real']:\n",
        "    imageNameList=os.listdir(\"data/train/\" + str(i))\n",
        "    for fileName in imageNameList:\n",
        "        Image=cv2.imread(\"data/train/\" + str(i) + \"/\" + str(fileName))\n",
        "        try:\n",
        "#             gray=cv2.cvtColor(Image,cv2.COLOR_BGR2GRAY)\n",
        "#             faces = face_cascade.detectMultiScale(gray, 1.1, 10)\n",
        "            Image=cv2.resize(Image,(64,64))\n",
        "#             Image=Image/255\n",
        "    #             print(Image)\n",
        "    #             print(\"hello\")\n",
        "            images.append(Image)\n",
        "            labels.append(i)\n",
        "#             if i=='real':\n",
        "#                 print('1')\n",
        "#                 labels.append(1)\n",
        "\n",
        "#             else:\n",
        "#                 print('0')\n",
        "#                 labels.append(0)\n",
        "                \n",
        "        except:\n",
        "            pass\n",
        "    print(\"Inside folder \", i)"
      ]
    },
    {
      "cell_type": "code",
      "execution_count": 11,
      "id": "I9uOs08aHH7l",
      "metadata": {
        "id": "I9uOs08aHH7l"
      },
      "outputs": [],
      "source": [
        "images=np.array(images)\n",
        "images=images/255\n",
        "labels=np.array(labels)"
      ]
    },
    {
      "cell_type": "code",
      "execution_count": 12,
      "id": "0p10V-7IHH-2",
      "metadata": {
        "colab": {
          "base_uri": "https://localhost:8080/"
        },
        "id": "0p10V-7IHH-2",
        "outputId": "4580226f-1e10-4480-87dd-d87fd00b99bd"
      },
      "outputs": [
        {
          "data": {
            "text/plain": [
              "array(['fake', 'fake', 'fake', ..., 'real', 'real', 'real'], dtype='<U4')"
            ]
          },
          "execution_count": 12,
          "metadata": {},
          "output_type": "execute_result"
        }
      ],
      "source": [
        "labels"
      ]
    },
    {
      "cell_type": "code",
      "execution_count": 13,
      "id": "Vu6S77LRHIBj",
      "metadata": {
        "id": "Vu6S77LRHIBj"
      },
      "outputs": [],
      "source": [
        "from sklearn.preprocessing import LabelEncoder\n",
        "le = LabelEncoder()\n",
        "labels = le.fit_transform(labels)"
      ]
    },
    {
      "cell_type": "code",
      "execution_count": 14,
      "id": "nTSpfVtHHIER",
      "metadata": {
        "colab": {
          "base_uri": "https://localhost:8080/"
        },
        "id": "nTSpfVtHHIER",
        "outputId": "76854696-659c-4962-99a2-d6d1d8ce9fee"
      },
      "outputs": [
        {
          "data": {
            "text/plain": [
              "array([0, 0, 0, ..., 1, 1, 1])"
            ]
          },
          "execution_count": 14,
          "metadata": {},
          "output_type": "execute_result"
        }
      ],
      "source": [
        "labels"
      ]
    },
    {
      "cell_type": "code",
      "execution_count": 15,
      "id": "ULIyXlaOHIHX",
      "metadata": {
        "id": "ULIyXlaOHIHX"
      },
      "outputs": [],
      "source": [
        "from sklearn.model_selection import train_test_split"
      ]
    },
    {
      "cell_type": "code",
      "execution_count": 16,
      "id": "OPJ8TzFpHwmI",
      "metadata": {
        "id": "OPJ8TzFpHwmI"
      },
      "outputs": [],
      "source": [
        "from tensorflow.keras.layers import Conv2D, MaxPooling2D, Dropout, Flatten, Dense, BatchNormalization"
      ]
    },
    {
      "cell_type": "code",
      "execution_count": 17,
      "id": "iF_QpR1yHmYl",
      "metadata": {
        "id": "iF_QpR1yHmYl"
      },
      "outputs": [],
      "source": [
        "trainX,validationX,trainY,validationY=train_test_split(images,labels,test_size=0.3,stratify=labels)"
      ]
    },
    {
      "cell_type": "code",
      "execution_count": 18,
      "id": "cZYMQPlPKxxL",
      "metadata": {
        "id": "cZYMQPlPKxxL"
      },
      "outputs": [],
      "source": [
        "from tensorflow.keras.regularizers import l2"
      ]
    },
    {
      "cell_type": "code",
      "execution_count": 19,
      "id": "TkrDnD3WHmfc",
      "metadata": {
        "colab": {
          "base_uri": "https://localhost:8080/"
        },
        "id": "TkrDnD3WHmfc",
        "outputId": "ad0f7e5a-8905-4286-e370-33eee13c77cb"
      },
      "outputs": [
        {
          "name": "stdout",
          "output_type": "stream",
          "text": [
            "Model: \"sequential\"\n",
            "_________________________________________________________________\n",
            " Layer (type)                Output Shape              Param #   \n",
            "=================================================================\n",
            " conv2d (Conv2D)             (None, 64, 64, 32)        896       \n",
            "                                                                 \n",
            " batch_normalization (BatchN  (None, 64, 64, 32)       128       \n",
            " ormalization)                                                   \n",
            "                                                                 \n",
            " conv2d_1 (Conv2D)           (None, 64, 64, 32)        9248      \n",
            "                                                                 \n",
            " batch_normalization_1 (Batc  (None, 64, 64, 32)       128       \n",
            " hNormalization)                                                 \n",
            "                                                                 \n",
            " max_pooling2d (MaxPooling2D  (None, 32, 32, 32)       0         \n",
            " )                                                               \n",
            "                                                                 \n",
            " dropout (Dropout)           (None, 32, 32, 32)        0         \n",
            "                                                                 \n",
            " conv2d_2 (Conv2D)           (None, 32, 32, 64)        18496     \n",
            "                                                                 \n",
            " batch_normalization_2 (Batc  (None, 32, 32, 64)       256       \n",
            " hNormalization)                                                 \n",
            "                                                                 \n",
            " conv2d_3 (Conv2D)           (None, 32, 32, 64)        36928     \n",
            "                                                                 \n",
            " batch_normalization_3 (Batc  (None, 32, 32, 64)       256       \n",
            " hNormalization)                                                 \n",
            "                                                                 \n",
            " max_pooling2d_1 (MaxPooling  (None, 16, 16, 64)       0         \n",
            " 2D)                                                             \n",
            "                                                                 \n",
            " dropout_1 (Dropout)         (None, 16, 16, 64)        0         \n",
            "                                                                 \n",
            " conv2d_4 (Conv2D)           (None, 16, 16, 128)       73856     \n",
            "                                                                 \n",
            " batch_normalization_4 (Batc  (None, 16, 16, 128)      512       \n",
            " hNormalization)                                                 \n",
            "                                                                 \n",
            " conv2d_5 (Conv2D)           (None, 16, 16, 128)       147584    \n",
            "                                                                 \n",
            " batch_normalization_5 (Batc  (None, 16, 16, 128)      512       \n",
            " hNormalization)                                                 \n",
            "                                                                 \n",
            " max_pooling2d_2 (MaxPooling  (None, 8, 8, 128)        0         \n",
            " 2D)                                                             \n",
            "                                                                 \n",
            " dropout_2 (Dropout)         (None, 8, 8, 128)         0         \n",
            "                                                                 \n",
            " flatten (Flatten)           (None, 8192)              0         \n",
            "                                                                 \n",
            " dense (Dense)               (None, 256)               2097408   \n",
            "                                                                 \n",
            " batch_normalization_6 (Batc  (None, 256)              1024      \n",
            " hNormalization)                                                 \n",
            "                                                                 \n",
            " dropout_3 (Dropout)         (None, 256)               0         \n",
            "                                                                 \n",
            " dense_1 (Dense)             (None, 1)                 257       \n",
            "                                                                 \n",
            "=================================================================\n",
            "Total params: 2,387,489\n",
            "Trainable params: 2,386,081\n",
            "Non-trainable params: 1,408\n",
            "_________________________________________________________________\n"
          ]
        }
      ],
      "source": [
        "\n",
        "model = Sequential()\n",
        "model.add(Conv2D(32, (3, 3), activation='relu', kernel_initializer='he_uniform', padding='same', kernel_regularizer=l2(0.001), input_shape=(64,64, 3)))\n",
        "model.add(BatchNormalization())\n",
        "model.add(Conv2D(32, (3, 3), activation='relu', kernel_initializer='he_uniform', padding='same', kernel_regularizer=l2(0.001)))\n",
        "model.add(BatchNormalization())\n",
        "model.add(MaxPooling2D((2, 2)))\n",
        "model.add(Dropout(0.2))\n",
        "\n",
        "model.add(Conv2D(64, (3, 3), activation='relu', kernel_initializer='he_uniform', padding='same', kernel_regularizer=l2(0.001)))\n",
        "model.add(BatchNormalization())\n",
        "model.add(Conv2D(64, (3, 3), activation='relu', kernel_initializer='he_uniform', padding='same', kernel_regularizer=l2(0.001)))\n",
        "model.add(BatchNormalization())\n",
        "model.add(MaxPooling2D((2, 2)))\n",
        "model.add(Dropout(0.3))\n",
        "\n",
        "model.add(Conv2D(128, (3, 3), activation='relu', kernel_initializer='he_uniform', padding='same', kernel_regularizer=l2(0.001)))\n",
        "model.add(BatchNormalization())\n",
        "model.add(Conv2D(128, (3, 3), activation='relu', kernel_initializer='he_uniform', padding='same', kernel_regularizer=l2(0.001)))\n",
        "model.add(BatchNormalization())\n",
        "model.add(MaxPooling2D((2, 2)))\n",
        "model.add(Dropout(0.4))\n",
        "\n",
        "model.add(Flatten())\n",
        "model.add(Dense(256, activation='relu', kernel_initializer='he_uniform', kernel_regularizer=l2(0.001)))\n",
        "model.add(BatchNormalization())\n",
        "model.add(Dropout(0.5))\n",
        "model.add(Dense(1, activation='sigmoid'))\n",
        "\n",
        "model.compile(optimizer='adam', loss='binary_crossentropy', metrics=['accuracy'])\n",
        "\n",
        "model.summary()"
      ]
    },
    {
      "cell_type": "code",
      "execution_count": 20,
      "id": "mpBxVK7CHmkc",
      "metadata": {
        "id": "mpBxVK7CHmkc"
      },
      "outputs": [],
      "source": [
        "model.compile(optimizer = 'adam', loss = 'binary_crossentropy', metrics = ['accuracy'])"
      ]
    },
    {
      "cell_type": "code",
      "execution_count": 21,
      "id": "RFbKd_t-HmoP",
      "metadata": {
        "id": "RFbKd_t-HmoP"
      },
      "outputs": [],
      "source": [
        "from keras import callbacks\n",
        "earlystopping = callbacks.EarlyStopping(monitor =\"val_loss\", \n",
        "                                        mode =\"min\", patience = 5, \n",
        "                                        restore_best_weights = True)"
      ]
    },
    {
      "cell_type": "code",
      "execution_count": 22,
      "id": "6uC-tIrHK-bi",
      "metadata": {
        "colab": {
          "base_uri": "https://localhost:8080/"
        },
        "id": "6uC-tIrHK-bi",
        "outputId": "c36a5931-f142-4640-9cb4-2a9cb64f8f61"
      },
      "outputs": [
        {
          "name": "stdout",
          "output_type": "stream",
          "text": [
            "Epoch 1/70\n",
            "394/394 [==============================] - 30s 43ms/step - loss: 2.0776 - accuracy: 0.6017 - val_loss: 1.9726 - val_accuracy: 0.5076\n",
            "Epoch 2/70\n",
            "394/394 [==============================] - 16s 40ms/step - loss: 1.6434 - accuracy: 0.6661 - val_loss: 1.4963 - val_accuracy: 0.6522\n",
            "Epoch 3/70\n",
            "394/394 [==============================] - 16s 42ms/step - loss: 1.3468 - accuracy: 0.6914 - val_loss: 1.2431 - val_accuracy: 0.6581\n",
            "Epoch 4/70\n",
            "394/394 [==============================] - 16s 40ms/step - loss: 1.1260 - accuracy: 0.7182 - val_loss: 1.1422 - val_accuracy: 0.6700\n",
            "Epoch 5/70\n",
            "394/394 [==============================] - 16s 40ms/step - loss: 1.0098 - accuracy: 0.7367 - val_loss: 0.9927 - val_accuracy: 0.7294\n",
            "Epoch 6/70\n",
            "394/394 [==============================] - 16s 40ms/step - loss: 0.9125 - accuracy: 0.7551 - val_loss: 0.8406 - val_accuracy: 0.7743\n",
            "Epoch 7/70\n",
            "394/394 [==============================] - 16s 40ms/step - loss: 0.8156 - accuracy: 0.7694 - val_loss: 0.8053 - val_accuracy: 0.7730\n",
            "Epoch 8/70\n",
            "394/394 [==============================] - 16s 40ms/step - loss: 0.8181 - accuracy: 0.7650 - val_loss: 0.8151 - val_accuracy: 0.7319\n",
            "Epoch 9/70\n",
            "394/394 [==============================] - 16s 40ms/step - loss: 0.7594 - accuracy: 0.7843 - val_loss: 0.7985 - val_accuracy: 0.7644\n",
            "Epoch 10/70\n",
            "394/394 [==============================] - 16s 40ms/step - loss: 0.7616 - accuracy: 0.7929 - val_loss: 0.8089 - val_accuracy: 0.7507\n",
            "Epoch 11/70\n",
            "394/394 [==============================] - 16s 40ms/step - loss: 0.7506 - accuracy: 0.7990 - val_loss: 0.8350 - val_accuracy: 0.7709\n",
            "Epoch 12/70\n",
            "394/394 [==============================] - 16s 40ms/step - loss: 0.7138 - accuracy: 0.8075 - val_loss: 0.7439 - val_accuracy: 0.7944\n",
            "Epoch 13/70\n",
            "394/394 [==============================] - 16s 40ms/step - loss: 0.7059 - accuracy: 0.8113 - val_loss: 0.7163 - val_accuracy: 0.7994\n",
            "Epoch 14/70\n",
            "394/394 [==============================] - 16s 40ms/step - loss: 0.7135 - accuracy: 0.8202 - val_loss: 0.8528 - val_accuracy: 0.7615\n",
            "Epoch 15/70\n",
            "394/394 [==============================] - 16s 40ms/step - loss: 0.7548 - accuracy: 0.8249 - val_loss: 0.7994 - val_accuracy: 0.7817\n",
            "Epoch 16/70\n",
            "394/394 [==============================] - 16s 40ms/step - loss: 0.7015 - accuracy: 0.8344 - val_loss: 0.7943 - val_accuracy: 0.7891\n",
            "Epoch 17/70\n",
            "394/394 [==============================] - 16s 40ms/step - loss: 0.7133 - accuracy: 0.8324 - val_loss: 0.9497 - val_accuracy: 0.6813\n",
            "Epoch 18/70\n",
            "394/394 [==============================] - 16s 40ms/step - loss: 0.6998 - accuracy: 0.8421 - val_loss: 0.6735 - val_accuracy: 0.8439\n",
            "Epoch 19/70\n",
            "394/394 [==============================] - 16s 40ms/step - loss: 0.6687 - accuracy: 0.8572 - val_loss: 0.7965 - val_accuracy: 0.7917\n",
            "Epoch 20/70\n",
            "394/394 [==============================] - 16s 40ms/step - loss: 0.6990 - accuracy: 0.8604 - val_loss: 0.7206 - val_accuracy: 0.8480\n",
            "Epoch 21/70\n",
            "394/394 [==============================] - 16s 40ms/step - loss: 0.6678 - accuracy: 0.8779 - val_loss: 0.6849 - val_accuracy: 0.8578\n",
            "Epoch 22/70\n",
            "394/394 [==============================] - 16s 40ms/step - loss: 0.6700 - accuracy: 0.8803 - val_loss: 0.7765 - val_accuracy: 0.8261\n",
            "Epoch 23/70\n",
            "394/394 [==============================] - 16s 40ms/step - loss: 0.6570 - accuracy: 0.8848 - val_loss: 0.6663 - val_accuracy: 0.8767\n",
            "Epoch 24/70\n",
            "394/394 [==============================] - 16s 40ms/step - loss: 0.6414 - accuracy: 0.8932 - val_loss: 0.6851 - val_accuracy: 0.8583\n",
            "Epoch 25/70\n",
            "394/394 [==============================] - 16s 40ms/step - loss: 0.6261 - accuracy: 0.8971 - val_loss: 0.6439 - val_accuracy: 0.8926\n",
            "Epoch 26/70\n",
            "394/394 [==============================] - 16s 40ms/step - loss: 0.6148 - accuracy: 0.9068 - val_loss: 0.6425 - val_accuracy: 0.8854\n",
            "Epoch 27/70\n",
            "394/394 [==============================] - 16s 40ms/step - loss: 0.5991 - accuracy: 0.9059 - val_loss: 0.5976 - val_accuracy: 0.9102\n",
            "Epoch 28/70\n",
            "394/394 [==============================] - 16s 40ms/step - loss: 0.5825 - accuracy: 0.9153 - val_loss: 0.9303 - val_accuracy: 0.7526\n",
            "Epoch 29/70\n",
            "394/394 [==============================] - 16s 40ms/step - loss: 0.5951 - accuracy: 0.9137 - val_loss: 0.8015 - val_accuracy: 0.8341\n",
            "Epoch 30/70\n",
            "394/394 [==============================] - 16s 40ms/step - loss: 0.5833 - accuracy: 0.9178 - val_loss: 0.6862 - val_accuracy: 0.8591\n",
            "Epoch 31/70\n",
            "394/394 [==============================] - 16s 40ms/step - loss: 0.5709 - accuracy: 0.9190 - val_loss: 0.6760 - val_accuracy: 0.8613\n",
            "Epoch 32/70\n",
            "394/394 [==============================] - 16s 40ms/step - loss: 0.5543 - accuracy: 0.9229 - val_loss: 0.7788 - val_accuracy: 0.8519\n"
          ]
        },
        {
          "data": {
            "text/plain": [
              "<keras.callbacks.History at 0x7f0850098450>"
            ]
          },
          "execution_count": 22,
          "metadata": {},
          "output_type": "execute_result"
        }
      ],
      "source": [
        "model.fit(trainX, trainY, validation_data=(validationX, validationY), epochs = 70, callbacks =[earlystopping])"
      ]
    },
    {
      "cell_type": "code",
      "execution_count": 25,
      "id": "qoSVomEzFhlN",
      "metadata": {
        "colab": {
          "base_uri": "https://localhost:8080/"
        },
        "id": "qoSVomEzFhlN",
        "outputId": "5f16dacc-47b3-4536-a514-df204c15817d"
      },
      "outputs": [
        {
          "name": "stdout",
          "output_type": "stream",
          "text": [
            "Epoch 1/70\n",
            "394/394 [==============================] - 16s 41ms/step - loss: 0.5956 - accuracy: 0.9132 - val_loss: 0.7927 - val_accuracy: 0.8502\n",
            "Epoch 2/70\n",
            "394/394 [==============================] - 16s 40ms/step - loss: 0.5899 - accuracy: 0.9123 - val_loss: 0.7363 - val_accuracy: 0.8422\n",
            "Epoch 3/70\n",
            "394/394 [==============================] - 16s 40ms/step - loss: 0.6403 - accuracy: 0.9084 - val_loss: 3.9914 - val_accuracy: 0.5572\n",
            "Epoch 4/70\n",
            "394/394 [==============================] - 16s 41ms/step - loss: 0.5847 - accuracy: 0.9198 - val_loss: 0.6143 - val_accuracy: 0.8981\n",
            "Epoch 5/70\n",
            "394/394 [==============================] - 16s 41ms/step - loss: 0.5446 - accuracy: 0.9271 - val_loss: 0.6285 - val_accuracy: 0.8902\n",
            "Epoch 6/70\n",
            "394/394 [==============================] - 16s 41ms/step - loss: 0.5460 - accuracy: 0.9229 - val_loss: 0.5519 - val_accuracy: 0.9137\n",
            "Epoch 7/70\n",
            "394/394 [==============================] - 16s 41ms/step - loss: 0.5334 - accuracy: 0.9257 - val_loss: 0.5930 - val_accuracy: 0.9046\n",
            "Epoch 8/70\n",
            "394/394 [==============================] - 16s 41ms/step - loss: 0.5419 - accuracy: 0.9322 - val_loss: 0.7456 - val_accuracy: 0.8522\n",
            "Epoch 9/70\n",
            "394/394 [==============================] - 16s 41ms/step - loss: 0.5328 - accuracy: 0.9329 - val_loss: 0.8500 - val_accuracy: 0.7556\n",
            "Epoch 10/70\n",
            "394/394 [==============================] - 16s 41ms/step - loss: 0.5156 - accuracy: 0.9321 - val_loss: 0.5681 - val_accuracy: 0.9052\n",
            "Epoch 11/70\n",
            "394/394 [==============================] - 16s 41ms/step - loss: 0.5069 - accuracy: 0.9359 - val_loss: 2.0511 - val_accuracy: 0.5702\n"
          ]
        },
        {
          "data": {
            "text/plain": [
              "<keras.callbacks.History at 0x7f07e268cc10>"
            ]
          },
          "execution_count": 25,
          "metadata": {},
          "output_type": "execute_result"
        }
      ],
      "source": [
        "model.fit(trainX, trainY, validation_data=(validationX, validationY), epochs = 70, callbacks =[earlystopping])"
      ]
    },
    {
      "cell_type": "code",
      "execution_count": 26,
      "id": "NNeUBpyEGQey",
      "metadata": {
        "colab": {
          "base_uri": "https://localhost:8080/"
        },
        "id": "NNeUBpyEGQey",
        "outputId": "44d8747c-2a9a-4dc6-cba4-cbaf9bcc11d0"
      },
      "outputs": [
        {
          "name": "stdout",
          "output_type": "stream",
          "text": [
            "Epoch 1/70\n",
            "394/394 [==============================] - 17s 42ms/step - loss: 0.5556 - accuracy: 0.9278 - val_loss: 0.5762 - val_accuracy: 0.9198\n",
            "Epoch 2/70\n",
            "394/394 [==============================] - 16s 40ms/step - loss: 0.5350 - accuracy: 0.9319 - val_loss: 0.5709 - val_accuracy: 0.9061\n",
            "Epoch 3/70\n",
            "394/394 [==============================] - 16s 40ms/step - loss: 0.5476 - accuracy: 0.9275 - val_loss: 0.6470 - val_accuracy: 0.8844\n",
            "Epoch 4/70\n",
            "394/394 [==============================] - 16s 40ms/step - loss: 0.5407 - accuracy: 0.9323 - val_loss: 0.6379 - val_accuracy: 0.8885\n",
            "Epoch 5/70\n",
            "394/394 [==============================] - 16s 40ms/step - loss: 0.5222 - accuracy: 0.9371 - val_loss: 0.8168 - val_accuracy: 0.7941\n",
            "Epoch 6/70\n",
            "394/394 [==============================] - 16s 40ms/step - loss: 0.5278 - accuracy: 0.9326 - val_loss: 0.7557 - val_accuracy: 0.8317\n",
            "Epoch 7/70\n",
            "394/394 [==============================] - 16s 40ms/step - loss: 0.5099 - accuracy: 0.9396 - val_loss: 0.7720 - val_accuracy: 0.8261\n"
          ]
        },
        {
          "data": {
            "text/plain": [
              "<keras.callbacks.History at 0x7f07e260d450>"
            ]
          },
          "execution_count": 26,
          "metadata": {},
          "output_type": "execute_result"
        }
      ],
      "source": [
        "model.fit(trainX, trainY, validation_data=(validationX, validationY), epochs = 70, callbacks =[earlystopping])"
      ]
    },
    {
      "cell_type": "code",
      "execution_count": 27,
      "id": "ehj4wKAGG0AX",
      "metadata": {
        "colab": {
          "base_uri": "https://localhost:8080/"
        },
        "id": "ehj4wKAGG0AX",
        "outputId": "458aff42-8616-464d-9869-91b0d6401988"
      },
      "outputs": [
        {
          "name": "stdout",
          "output_type": "stream",
          "text": [
            "Epoch 1/70\n",
            "394/394 [==============================] - 16s 41ms/step - loss: 0.5266 - accuracy: 0.9316 - val_loss: 0.6790 - val_accuracy: 0.8722\n",
            "Epoch 2/70\n",
            "394/394 [==============================] - 16s 41ms/step - loss: 0.5273 - accuracy: 0.9354 - val_loss: 0.5210 - val_accuracy: 0.9217\n",
            "Epoch 3/70\n",
            "394/394 [==============================] - 16s 40ms/step - loss: 0.5062 - accuracy: 0.9385 - val_loss: 0.5934 - val_accuracy: 0.8976\n",
            "Epoch 4/70\n",
            "394/394 [==============================] - 16s 40ms/step - loss: 0.5157 - accuracy: 0.9373 - val_loss: 0.6650 - val_accuracy: 0.8630\n",
            "Epoch 5/70\n",
            "394/394 [==============================] - 16s 40ms/step - loss: 0.5107 - accuracy: 0.9353 - val_loss: 0.5008 - val_accuracy: 0.9348\n",
            "Epoch 6/70\n",
            "394/394 [==============================] - 16s 41ms/step - loss: 0.5109 - accuracy: 0.9356 - val_loss: 0.5424 - val_accuracy: 0.9269\n",
            "Epoch 7/70\n",
            "394/394 [==============================] - 16s 41ms/step - loss: 0.5107 - accuracy: 0.9403 - val_loss: 0.6092 - val_accuracy: 0.8967\n",
            "Epoch 8/70\n",
            "394/394 [==============================] - 16s 41ms/step - loss: 0.5078 - accuracy: 0.9417 - val_loss: 0.4846 - val_accuracy: 0.9406\n",
            "Epoch 9/70\n",
            "394/394 [==============================] - 16s 40ms/step - loss: 0.4801 - accuracy: 0.9441 - val_loss: 0.5850 - val_accuracy: 0.8913\n",
            "Epoch 10/70\n",
            "394/394 [==============================] - 16s 40ms/step - loss: 0.4714 - accuracy: 0.9427 - val_loss: 0.6317 - val_accuracy: 0.8846\n",
            "Epoch 11/70\n",
            "394/394 [==============================] - 16s 40ms/step - loss: 0.4591 - accuracy: 0.9464 - val_loss: 0.5717 - val_accuracy: 0.8969\n",
            "Epoch 12/70\n",
            "394/394 [==============================] - 16s 40ms/step - loss: 0.4639 - accuracy: 0.9475 - val_loss: 0.4814 - val_accuracy: 0.9426\n",
            "Epoch 13/70\n",
            "394/394 [==============================] - 16s 40ms/step - loss: 0.4597 - accuracy: 0.9474 - val_loss: 0.4552 - val_accuracy: 0.9437\n",
            "Epoch 14/70\n",
            "394/394 [==============================] - 16s 40ms/step - loss: 0.4570 - accuracy: 0.9471 - val_loss: 0.5040 - val_accuracy: 0.9222\n",
            "Epoch 15/70\n",
            "394/394 [==============================] - 16s 41ms/step - loss: 0.4471 - accuracy: 0.9479 - val_loss: 0.5920 - val_accuracy: 0.8800\n",
            "Epoch 16/70\n",
            "394/394 [==============================] - 16s 41ms/step - loss: 0.4448 - accuracy: 0.9478 - val_loss: 0.4874 - val_accuracy: 0.9350\n",
            "Epoch 17/70\n",
            "394/394 [==============================] - 16s 40ms/step - loss: 0.5025 - accuracy: 0.9356 - val_loss: 0.5312 - val_accuracy: 0.9161\n",
            "Epoch 18/70\n",
            "394/394 [==============================] - 16s 40ms/step - loss: 0.4373 - accuracy: 0.9498 - val_loss: 0.4383 - val_accuracy: 0.9452\n",
            "Epoch 19/70\n",
            "394/394 [==============================] - 16s 40ms/step - loss: 0.4211 - accuracy: 0.9540 - val_loss: 0.4844 - val_accuracy: 0.9324\n",
            "Epoch 20/70\n",
            "394/394 [==============================] - 16s 40ms/step - loss: 0.4448 - accuracy: 0.9480 - val_loss: 0.5221 - val_accuracy: 0.9181\n",
            "Epoch 21/70\n",
            "394/394 [==============================] - 16s 41ms/step - loss: 0.4249 - accuracy: 0.9544 - val_loss: 0.5557 - val_accuracy: 0.9076\n",
            "Epoch 22/70\n",
            "394/394 [==============================] - 16s 40ms/step - loss: 0.4246 - accuracy: 0.9519 - val_loss: 0.5115 - val_accuracy: 0.9159\n",
            "Epoch 23/70\n",
            "394/394 [==============================] - 16s 40ms/step - loss: 0.4220 - accuracy: 0.9528 - val_loss: 1.8734 - val_accuracy: 0.6743\n"
          ]
        },
        {
          "data": {
            "text/plain": [
              "<keras.callbacks.History at 0x7f07e25dda50>"
            ]
          },
          "execution_count": 27,
          "metadata": {},
          "output_type": "execute_result"
        }
      ],
      "source": [
        "model.fit(trainX, trainY, validation_data=(validationX, validationY), epochs = 70, callbacks =[earlystopping])"
      ]
    },
    {
      "cell_type": "code",
      "execution_count": 28,
      "id": "uM7k6sziIT9P",
      "metadata": {
        "colab": {
          "base_uri": "https://localhost:8080/"
        },
        "id": "uM7k6sziIT9P",
        "outputId": "78956051-3d75-4fd8-a4f5-6d4a0a5473f1"
      },
      "outputs": [
        {
          "name": "stdout",
          "output_type": "stream",
          "text": [
            "Epoch 1/70\n",
            "394/394 [==============================] - 16s 41ms/step - loss: 0.4375 - accuracy: 0.9528 - val_loss: 0.4669 - val_accuracy: 0.9306\n",
            "Epoch 2/70\n",
            "394/394 [==============================] - 16s 40ms/step - loss: 0.4266 - accuracy: 0.9541 - val_loss: 0.5089 - val_accuracy: 0.9200\n",
            "Epoch 3/70\n",
            "394/394 [==============================] - 16s 40ms/step - loss: 0.4380 - accuracy: 0.9488 - val_loss: 0.5594 - val_accuracy: 0.9128\n",
            "Epoch 4/70\n",
            "394/394 [==============================] - 16s 40ms/step - loss: 0.4071 - accuracy: 0.9584 - val_loss: 0.6327 - val_accuracy: 0.8630\n",
            "Epoch 5/70\n",
            "394/394 [==============================] - 16s 40ms/step - loss: 0.4350 - accuracy: 0.9507 - val_loss: 0.5421 - val_accuracy: 0.9196\n",
            "Epoch 6/70\n",
            "394/394 [==============================] - 16s 40ms/step - loss: 0.4239 - accuracy: 0.9514 - val_loss: 0.4399 - val_accuracy: 0.9461\n",
            "Epoch 7/70\n",
            "394/394 [==============================] - 16s 40ms/step - loss: 0.4098 - accuracy: 0.9558 - val_loss: 0.5829 - val_accuracy: 0.8900\n",
            "Epoch 8/70\n",
            "394/394 [==============================] - 16s 40ms/step - loss: 0.4278 - accuracy: 0.9538 - val_loss: 0.4438 - val_accuracy: 0.9487\n",
            "Epoch 9/70\n",
            "394/394 [==============================] - 16s 40ms/step - loss: 0.4115 - accuracy: 0.9559 - val_loss: 0.4367 - val_accuracy: 0.9446\n",
            "Epoch 10/70\n",
            "394/394 [==============================] - 16s 40ms/step - loss: 0.4040 - accuracy: 0.9572 - val_loss: 0.7461 - val_accuracy: 0.8291\n",
            "Epoch 11/70\n",
            "394/394 [==============================] - 16s 40ms/step - loss: 0.4168 - accuracy: 0.9536 - val_loss: 0.4025 - val_accuracy: 0.9585\n",
            "Epoch 12/70\n",
            "394/394 [==============================] - 16s 40ms/step - loss: 0.4103 - accuracy: 0.9578 - val_loss: 0.4169 - val_accuracy: 0.9520\n",
            "Epoch 13/70\n",
            "394/394 [==============================] - 16s 40ms/step - loss: 0.4172 - accuracy: 0.9537 - val_loss: 0.6441 - val_accuracy: 0.8591\n",
            "Epoch 14/70\n",
            "394/394 [==============================] - 16s 41ms/step - loss: 0.3984 - accuracy: 0.9591 - val_loss: 0.5385 - val_accuracy: 0.8972\n",
            "Epoch 15/70\n",
            "394/394 [==============================] - 16s 40ms/step - loss: 0.4111 - accuracy: 0.9561 - val_loss: 0.4368 - val_accuracy: 0.9461\n",
            "Epoch 16/70\n",
            "394/394 [==============================] - 16s 40ms/step - loss: 0.3930 - accuracy: 0.9609 - val_loss: 0.6059 - val_accuracy: 0.8983\n"
          ]
        },
        {
          "data": {
            "text/plain": [
              "<keras.callbacks.History at 0x7f07e268c110>"
            ]
          },
          "execution_count": 28,
          "metadata": {},
          "output_type": "execute_result"
        }
      ],
      "source": [
        "model.fit(trainX, trainY, validation_data=(validationX, validationY), epochs = 70, callbacks =[earlystopping])"
      ]
    },
    {
      "cell_type": "code",
      "execution_count": 29,
      "id": "Qp62x0oPJktJ",
      "metadata": {
        "colab": {
          "base_uri": "https://localhost:8080/"
        },
        "id": "Qp62x0oPJktJ",
        "outputId": "5713ab0d-f29a-4317-f26c-16cc2f9807ff"
      },
      "outputs": [
        {
          "name": "stdout",
          "output_type": "stream",
          "text": [
            "Epoch 1/70\n",
            "394/394 [==============================] - 16s 42ms/step - loss: 0.4237 - accuracy: 0.9543 - val_loss: 0.4466 - val_accuracy: 0.9433\n",
            "Epoch 2/70\n",
            "394/394 [==============================] - 16s 40ms/step - loss: 0.3851 - accuracy: 0.9641 - val_loss: 0.4194 - val_accuracy: 0.9378\n",
            "Epoch 3/70\n",
            "394/394 [==============================] - 16s 40ms/step - loss: 0.3987 - accuracy: 0.9557 - val_loss: 0.4214 - val_accuracy: 0.9470\n",
            "Epoch 4/70\n",
            "394/394 [==============================] - 16s 40ms/step - loss: 0.3976 - accuracy: 0.9577 - val_loss: 0.4393 - val_accuracy: 0.9396\n",
            "Epoch 5/70\n",
            "394/394 [==============================] - 16s 41ms/step - loss: 0.3967 - accuracy: 0.9562 - val_loss: 0.6269 - val_accuracy: 0.8802\n",
            "Epoch 6/70\n",
            "394/394 [==============================] - 16s 40ms/step - loss: 0.3839 - accuracy: 0.9605 - val_loss: 0.3756 - val_accuracy: 0.9596\n",
            "Epoch 7/70\n",
            "394/394 [==============================] - 16s 41ms/step - loss: 0.3788 - accuracy: 0.9590 - val_loss: 0.3798 - val_accuracy: 0.9598\n",
            "Epoch 8/70\n",
            "394/394 [==============================] - 16s 40ms/step - loss: 0.3947 - accuracy: 0.9563 - val_loss: 0.4506 - val_accuracy: 0.9341\n",
            "Epoch 9/70\n",
            "394/394 [==============================] - 16s 40ms/step - loss: 0.3711 - accuracy: 0.9621 - val_loss: 1.4122 - val_accuracy: 0.7033\n",
            "Epoch 10/70\n",
            "394/394 [==============================] - 16s 40ms/step - loss: 0.3757 - accuracy: 0.9620 - val_loss: 0.4114 - val_accuracy: 0.9435\n",
            "Epoch 11/70\n",
            "394/394 [==============================] - 16s 40ms/step - loss: 0.3731 - accuracy: 0.9594 - val_loss: 0.4042 - val_accuracy: 0.9481\n"
          ]
        },
        {
          "data": {
            "text/plain": [
              "<keras.callbacks.History at 0x7f07e258b810>"
            ]
          },
          "execution_count": 29,
          "metadata": {},
          "output_type": "execute_result"
        }
      ],
      "source": [
        "model.fit(trainX, trainY, validation_data=(validationX, validationY), epochs = 70, callbacks =[earlystopping])"
      ]
    },
    {
      "cell_type": "code",
      "execution_count": 30,
      "id": "lPOiPRTkJlC0",
      "metadata": {
        "colab": {
          "base_uri": "https://localhost:8080/"
        },
        "id": "lPOiPRTkJlC0",
        "outputId": "ff0bbefd-8d0a-4b5b-c356-16e666cd1f47"
      },
      "outputs": [
        {
          "name": "stdout",
          "output_type": "stream",
          "text": [
            "Epoch 1/70\n",
            "394/394 [==============================] - 16s 42ms/step - loss: 0.3749 - accuracy: 0.9595 - val_loss: 0.4462 - val_accuracy: 0.9357\n",
            "Epoch 2/70\n",
            "394/394 [==============================] - 16s 40ms/step - loss: 0.4094 - accuracy: 0.9540 - val_loss: 0.5389 - val_accuracy: 0.9139\n",
            "Epoch 3/70\n",
            "394/394 [==============================] - 16s 41ms/step - loss: 0.3828 - accuracy: 0.9600 - val_loss: 0.4144 - val_accuracy: 0.9446\n",
            "Epoch 4/70\n",
            "394/394 [==============================] - 16s 40ms/step - loss: 0.3770 - accuracy: 0.9599 - val_loss: 0.4085 - val_accuracy: 0.9544\n",
            "Epoch 5/70\n",
            "394/394 [==============================] - 16s 40ms/step - loss: 0.3945 - accuracy: 0.9585 - val_loss: 0.3740 - val_accuracy: 0.9596\n",
            "Epoch 6/70\n",
            "394/394 [==============================] - 16s 40ms/step - loss: 0.3785 - accuracy: 0.9585 - val_loss: 0.3963 - val_accuracy: 0.9467\n",
            "Epoch 7/70\n",
            "394/394 [==============================] - 16s 41ms/step - loss: 0.3682 - accuracy: 0.9595 - val_loss: 0.3806 - val_accuracy: 0.9576\n",
            "Epoch 8/70\n",
            "394/394 [==============================] - 16s 41ms/step - loss: 0.3712 - accuracy: 0.9603 - val_loss: 1.1030 - val_accuracy: 0.7813\n",
            "Epoch 9/70\n",
            "394/394 [==============================] - 16s 41ms/step - loss: 0.3619 - accuracy: 0.9631 - val_loss: 0.4130 - val_accuracy: 0.9406\n",
            "Epoch 10/70\n",
            "394/394 [==============================] - 16s 41ms/step - loss: 0.3511 - accuracy: 0.9645 - val_loss: 0.3766 - val_accuracy: 0.9544\n"
          ]
        },
        {
          "data": {
            "text/plain": [
              "<keras.callbacks.History at 0x7f07e254c350>"
            ]
          },
          "execution_count": 30,
          "metadata": {},
          "output_type": "execute_result"
        }
      ],
      "source": [
        "model.fit(trainX, trainY, validation_data=(validationX, validationY), epochs = 70, callbacks =[earlystopping])"
      ]
    },
    {
      "cell_type": "code",
      "execution_count": 31,
      "id": "Y06-IdjaLRy1",
      "metadata": {
        "colab": {
          "base_uri": "https://localhost:8080/"
        },
        "id": "Y06-IdjaLRy1",
        "outputId": "e39796f6-b0ce-46e7-8ad8-acc7b490a01d"
      },
      "outputs": [
        {
          "name": "stdout",
          "output_type": "stream",
          "text": [
            "Epoch 1/70\n",
            "394/394 [==============================] - 16s 41ms/step - loss: 0.3915 - accuracy: 0.9561 - val_loss: 0.4341 - val_accuracy: 0.9328\n",
            "Epoch 2/70\n",
            "394/394 [==============================] - 16s 40ms/step - loss: 0.3689 - accuracy: 0.9621 - val_loss: 0.4114 - val_accuracy: 0.9446\n",
            "Epoch 3/70\n",
            "394/394 [==============================] - 16s 40ms/step - loss: 0.3851 - accuracy: 0.9565 - val_loss: 0.3722 - val_accuracy: 0.9615\n",
            "Epoch 4/70\n",
            "394/394 [==============================] - 16s 40ms/step - loss: 0.3728 - accuracy: 0.9620 - val_loss: 0.8501 - val_accuracy: 0.8237\n",
            "Epoch 5/70\n",
            "394/394 [==============================] - 16s 40ms/step - loss: 0.3870 - accuracy: 0.9565 - val_loss: 0.4535 - val_accuracy: 0.9278\n",
            "Epoch 6/70\n",
            "394/394 [==============================] - 16s 40ms/step - loss: 0.3595 - accuracy: 0.9635 - val_loss: 0.7006 - val_accuracy: 0.8898\n",
            "Epoch 7/70\n",
            "394/394 [==============================] - 16s 40ms/step - loss: 0.3556 - accuracy: 0.9625 - val_loss: 0.6081 - val_accuracy: 0.8669\n",
            "Epoch 8/70\n",
            "394/394 [==============================] - 16s 40ms/step - loss: 0.3547 - accuracy: 0.9629 - val_loss: 0.4639 - val_accuracy: 0.9270\n"
          ]
        },
        {
          "data": {
            "text/plain": [
              "<keras.callbacks.History at 0x7f07e2553fd0>"
            ]
          },
          "execution_count": 31,
          "metadata": {},
          "output_type": "execute_result"
        }
      ],
      "source": [
        "model.fit(trainX, trainY, validation_data=(validationX, validationY), epochs = 70, callbacks =[earlystopping])"
      ]
    },
    {
      "cell_type": "code",
      "execution_count": 32,
      "id": "_69xvFR-Mhfd",
      "metadata": {
        "colab": {
          "base_uri": "https://localhost:8080/"
        },
        "id": "_69xvFR-Mhfd",
        "outputId": "4e1ac950-bf42-4c38-acd6-0ba03131f435"
      },
      "outputs": [
        {
          "name": "stdout",
          "output_type": "stream",
          "text": [
            "Epoch 1/70\n",
            "394/394 [==============================] - 17s 42ms/step - loss: 0.3739 - accuracy: 0.9597 - val_loss: 0.4470 - val_accuracy: 0.9369\n",
            "Epoch 2/70\n",
            "394/394 [==============================] - 16s 40ms/step - loss: 0.3581 - accuracy: 0.9658 - val_loss: 0.4530 - val_accuracy: 0.9259\n",
            "Epoch 3/70\n",
            "394/394 [==============================] - 16s 40ms/step - loss: 0.3716 - accuracy: 0.9597 - val_loss: 0.3491 - val_accuracy: 0.9648\n",
            "Epoch 4/70\n",
            "394/394 [==============================] - 16s 40ms/step - loss: 0.3421 - accuracy: 0.9659 - val_loss: 0.3951 - val_accuracy: 0.9500\n",
            "Epoch 5/70\n",
            "394/394 [==============================] - 16s 41ms/step - loss: 0.3640 - accuracy: 0.9590 - val_loss: 0.4069 - val_accuracy: 0.9454\n",
            "Epoch 6/70\n",
            "394/394 [==============================] - 16s 40ms/step - loss: 0.3504 - accuracy: 0.9613 - val_loss: 0.3517 - val_accuracy: 0.9593\n",
            "Epoch 7/70\n",
            "394/394 [==============================] - 16s 40ms/step - loss: 0.3436 - accuracy: 0.9637 - val_loss: 0.3403 - val_accuracy: 0.9606\n",
            "Epoch 8/70\n",
            "394/394 [==============================] - 16s 40ms/step - loss: 0.3304 - accuracy: 0.9647 - val_loss: 0.4076 - val_accuracy: 0.9350\n",
            "Epoch 9/70\n",
            "394/394 [==============================] - 16s 41ms/step - loss: 0.3598 - accuracy: 0.9596 - val_loss: 0.4128 - val_accuracy: 0.9363\n",
            "Epoch 10/70\n",
            "394/394 [==============================] - 16s 40ms/step - loss: 0.3364 - accuracy: 0.9663 - val_loss: 0.3561 - val_accuracy: 0.9489\n",
            "Epoch 11/70\n",
            "394/394 [==============================] - 16s 40ms/step - loss: 0.3304 - accuracy: 0.9635 - val_loss: 0.4137 - val_accuracy: 0.9411\n",
            "Epoch 12/70\n",
            "394/394 [==============================] - 16s 40ms/step - loss: 0.3464 - accuracy: 0.9628 - val_loss: 0.4132 - val_accuracy: 0.9330\n"
          ]
        },
        {
          "data": {
            "text/plain": [
              "<keras.callbacks.History at 0x7f07e268c910>"
            ]
          },
          "execution_count": 32,
          "metadata": {},
          "output_type": "execute_result"
        }
      ],
      "source": [
        "model.fit(trainX, trainY, validation_data=(validationX, validationY), epochs = 70, callbacks =[earlystopping])"
      ]
    },
    {
      "cell_type": "code",
      "execution_count": 33,
      "id": "ppfOicRCMhoj",
      "metadata": {
        "colab": {
          "base_uri": "https://localhost:8080/"
        },
        "id": "ppfOicRCMhoj",
        "outputId": "95b12f1b-4af2-4d73-85ce-15c16f4d0348"
      },
      "outputs": [
        {
          "name": "stdout",
          "output_type": "stream",
          "text": [
            "Epoch 1/70\n",
            "394/394 [==============================] - 16s 41ms/step - loss: 0.3393 - accuracy: 0.9636 - val_loss: 0.4660 - val_accuracy: 0.9144\n",
            "Epoch 2/70\n",
            "394/394 [==============================] - 16s 40ms/step - loss: 0.3548 - accuracy: 0.9627 - val_loss: 0.6475 - val_accuracy: 0.8581\n",
            "Epoch 3/70\n",
            "394/394 [==============================] - 16s 40ms/step - loss: 0.3499 - accuracy: 0.9637 - val_loss: 0.4803 - val_accuracy: 0.9078\n",
            "Epoch 4/70\n",
            "394/394 [==============================] - 16s 40ms/step - loss: 0.3470 - accuracy: 0.9640 - val_loss: 0.3746 - val_accuracy: 0.9533\n",
            "Epoch 5/70\n",
            "394/394 [==============================] - 16s 40ms/step - loss: 0.3418 - accuracy: 0.9634 - val_loss: 0.4114 - val_accuracy: 0.9354\n",
            "Epoch 6/70\n",
            "394/394 [==============================] - 16s 40ms/step - loss: 0.3520 - accuracy: 0.9617 - val_loss: 0.3552 - val_accuracy: 0.9626\n",
            "Epoch 7/70\n",
            "394/394 [==============================] - 16s 40ms/step - loss: 0.3484 - accuracy: 0.9616 - val_loss: 0.5845 - val_accuracy: 0.9041\n",
            "Epoch 8/70\n",
            "394/394 [==============================] - 17s 42ms/step - loss: 0.3471 - accuracy: 0.9611 - val_loss: 0.4338 - val_accuracy: 0.9333\n",
            "Epoch 9/70\n",
            "394/394 [==============================] - 16s 40ms/step - loss: 0.3495 - accuracy: 0.9642 - val_loss: 0.3749 - val_accuracy: 0.9517\n",
            "Epoch 10/70\n",
            "394/394 [==============================] - 16s 40ms/step - loss: 0.3471 - accuracy: 0.9635 - val_loss: 0.3679 - val_accuracy: 0.9593\n",
            "Epoch 11/70\n",
            "394/394 [==============================] - 16s 41ms/step - loss: 0.3435 - accuracy: 0.9653 - val_loss: 0.3756 - val_accuracy: 0.9483\n"
          ]
        },
        {
          "data": {
            "text/plain": [
              "<keras.callbacks.History at 0x7f085b163c50>"
            ]
          },
          "execution_count": 33,
          "metadata": {},
          "output_type": "execute_result"
        }
      ],
      "source": [
        "model.fit(trainX, trainY, validation_data=(validationX, validationY), epochs = 70, callbacks =[earlystopping])"
      ]
    },
    {
      "cell_type": "code",
      "execution_count": 34,
      "id": "8893CjGlOLaO",
      "metadata": {
        "id": "8893CjGlOLaO"
      },
      "outputs": [],
      "source": [
        "earlystopping = callbacks.EarlyStopping(monitor =\"val_loss\", \n",
        "                                        mode =\"min\", patience = 10, \n",
        "                                        restore_best_weights = True)"
      ]
    },
    {
      "cell_type": "code",
      "execution_count": 35,
      "id": "RIYml5SOMhx3",
      "metadata": {
        "colab": {
          "base_uri": "https://localhost:8080/"
        },
        "id": "RIYml5SOMhx3",
        "outputId": "7bfb870d-43d6-4773-fb51-8eb37d3ea416"
      },
      "outputs": [
        {
          "name": "stdout",
          "output_type": "stream",
          "text": [
            "Epoch 1/70\n",
            "394/394 [==============================] - 16s 41ms/step - loss: 0.3362 - accuracy: 0.9661 - val_loss: 0.3561 - val_accuracy: 0.9528\n",
            "Epoch 2/70\n",
            "394/394 [==============================] - 16s 40ms/step - loss: 0.3389 - accuracy: 0.9641 - val_loss: 0.3483 - val_accuracy: 0.9561\n",
            "Epoch 3/70\n",
            "394/394 [==============================] - 16s 40ms/step - loss: 0.3272 - accuracy: 0.9665 - val_loss: 0.8629 - val_accuracy: 0.8194\n",
            "Epoch 4/70\n",
            "394/394 [==============================] - 17s 42ms/step - loss: 0.3291 - accuracy: 0.9667 - val_loss: 0.3449 - val_accuracy: 0.9578\n",
            "Epoch 5/70\n",
            "394/394 [==============================] - 16s 40ms/step - loss: 0.3315 - accuracy: 0.9645 - val_loss: 0.5469 - val_accuracy: 0.8757\n",
            "Epoch 6/70\n",
            "394/394 [==============================] - 16s 40ms/step - loss: 0.3377 - accuracy: 0.9630 - val_loss: 0.5518 - val_accuracy: 0.8869\n",
            "Epoch 7/70\n",
            "394/394 [==============================] - 16s 41ms/step - loss: 0.3338 - accuracy: 0.9660 - val_loss: 0.4099 - val_accuracy: 0.9437\n",
            "Epoch 8/70\n",
            "394/394 [==============================] - 16s 40ms/step - loss: 0.3175 - accuracy: 0.9699 - val_loss: 0.3608 - val_accuracy: 0.9543\n",
            "Epoch 9/70\n",
            "394/394 [==============================] - 16s 40ms/step - loss: 0.3317 - accuracy: 0.9634 - val_loss: 0.8868 - val_accuracy: 0.8143\n",
            "Epoch 10/70\n",
            "394/394 [==============================] - 16s 40ms/step - loss: 0.3364 - accuracy: 0.9650 - val_loss: 0.3828 - val_accuracy: 0.9428\n",
            "Epoch 11/70\n",
            "394/394 [==============================] - 16s 40ms/step - loss: 0.3252 - accuracy: 0.9668 - val_loss: 0.3888 - val_accuracy: 0.9485\n",
            "Epoch 12/70\n",
            "394/394 [==============================] - 16s 40ms/step - loss: 0.3246 - accuracy: 0.9675 - val_loss: 0.3888 - val_accuracy: 0.9404\n",
            "Epoch 13/70\n",
            "394/394 [==============================] - 16s 40ms/step - loss: 0.3291 - accuracy: 0.9658 - val_loss: 0.8149 - val_accuracy: 0.8176\n",
            "Epoch 14/70\n",
            "394/394 [==============================] - 16s 40ms/step - loss: 0.3242 - accuracy: 0.9659 - val_loss: 0.5086 - val_accuracy: 0.9165\n"
          ]
        },
        {
          "data": {
            "text/plain": [
              "<keras.callbacks.History at 0x7f07e24c4950>"
            ]
          },
          "execution_count": 35,
          "metadata": {},
          "output_type": "execute_result"
        }
      ],
      "source": [
        "model.fit(trainX, trainY, validation_data=(validationX, validationY), epochs = 70, callbacks =[earlystopping])"
      ]
    },
    {
      "cell_type": "code",
      "execution_count": 36,
      "id": "dsNh87SOOadr",
      "metadata": {
        "colab": {
          "base_uri": "https://localhost:8080/"
        },
        "id": "dsNh87SOOadr",
        "outputId": "508d0a2d-4c29-4c74-8e99-47af9a2fd3c5"
      },
      "outputs": [
        {
          "name": "stdout",
          "output_type": "stream",
          "text": [
            "Epoch 1/70\n",
            "394/394 [==============================] - 16s 41ms/step - loss: 0.3312 - accuracy: 0.9651 - val_loss: 0.4254 - val_accuracy: 0.9274\n",
            "Epoch 2/70\n",
            "394/394 [==============================] - 16s 40ms/step - loss: 0.3268 - accuracy: 0.9661 - val_loss: 0.4583 - val_accuracy: 0.9081\n",
            "Epoch 3/70\n",
            "394/394 [==============================] - 16s 41ms/step - loss: 0.3419 - accuracy: 0.9617 - val_loss: 0.3848 - val_accuracy: 0.9474\n",
            "Epoch 4/70\n",
            "394/394 [==============================] - 16s 40ms/step - loss: 0.3257 - accuracy: 0.9690 - val_loss: 0.5405 - val_accuracy: 0.8748\n",
            "Epoch 5/70\n",
            "394/394 [==============================] - 16s 40ms/step - loss: 0.3245 - accuracy: 0.9671 - val_loss: 0.3757 - val_accuracy: 0.9444\n",
            "Epoch 6/70\n",
            "394/394 [==============================] - 16s 40ms/step - loss: 0.3279 - accuracy: 0.9662 - val_loss: 0.5249 - val_accuracy: 0.9080\n",
            "Epoch 7/70\n",
            "394/394 [==============================] - 16s 40ms/step - loss: 0.3383 - accuracy: 0.9636 - val_loss: 0.4291 - val_accuracy: 0.9335\n",
            "Epoch 8/70\n",
            "394/394 [==============================] - 16s 40ms/step - loss: 0.3324 - accuracy: 0.9668 - val_loss: 0.3263 - val_accuracy: 0.9669\n",
            "Epoch 9/70\n",
            "394/394 [==============================] - 16s 40ms/step - loss: 0.3433 - accuracy: 0.9631 - val_loss: 0.5030 - val_accuracy: 0.8963\n",
            "Epoch 10/70\n",
            "394/394 [==============================] - 16s 41ms/step - loss: 0.3460 - accuracy: 0.9637 - val_loss: 0.4170 - val_accuracy: 0.9413\n",
            "Epoch 11/70\n",
            "394/394 [==============================] - 16s 40ms/step - loss: 0.3276 - accuracy: 0.9682 - val_loss: 0.3934 - val_accuracy: 0.9376\n",
            "Epoch 12/70\n",
            "394/394 [==============================] - 16s 40ms/step - loss: 0.3202 - accuracy: 0.9694 - val_loss: 0.3642 - val_accuracy: 0.9459\n",
            "Epoch 13/70\n",
            "394/394 [==============================] - 16s 40ms/step - loss: 0.4087 - accuracy: 0.9350 - val_loss: 1.3552 - val_accuracy: 0.5041\n",
            "Epoch 14/70\n",
            "394/394 [==============================] - 16s 40ms/step - loss: 0.5631 - accuracy: 0.8937 - val_loss: 0.5154 - val_accuracy: 0.8978\n",
            "Epoch 15/70\n",
            "394/394 [==============================] - 16s 40ms/step - loss: 0.4164 - accuracy: 0.9345 - val_loss: 0.3946 - val_accuracy: 0.9380\n",
            "Epoch 16/70\n",
            "394/394 [==============================] - 16s 40ms/step - loss: 0.3750 - accuracy: 0.9483 - val_loss: 0.5236 - val_accuracy: 0.8859\n",
            "Epoch 17/70\n",
            "394/394 [==============================] - 16s 40ms/step - loss: 0.3654 - accuracy: 0.9499 - val_loss: 0.3601 - val_accuracy: 0.9578\n",
            "Epoch 18/70\n",
            "394/394 [==============================] - 16s 40ms/step - loss: 0.3540 - accuracy: 0.9565 - val_loss: 0.3670 - val_accuracy: 0.9487\n"
          ]
        },
        {
          "data": {
            "text/plain": [
              "<keras.callbacks.History at 0x7f07e25cb4d0>"
            ]
          },
          "execution_count": 36,
          "metadata": {},
          "output_type": "execute_result"
        }
      ],
      "source": [
        "model.fit(trainX, trainY, validation_data=(validationX, validationY), epochs = 70, callbacks =[earlystopping])"
      ]
    },
    {
      "cell_type": "code",
      "execution_count": 38,
      "id": "xWyRNDlZK-d6",
      "metadata": {
        "id": "xWyRNDlZK-d6"
      },
      "outputs": [],
      "source": [
        "model.save('model_new2.h5')"
      ]
    }
  ],
  "metadata": {
    "accelerator": "GPU",
    "colab": {
      "name": "Copy of resnet.ipynb",
      "provenance": []
    },
    "kernelspec": {
      "display_name": "Python 3",
      "language": "python",
      "name": "python3"
    },
    "language_info": {
      "codemirror_mode": {
        "name": "ipython",
        "version": 3
      },
      "file_extension": ".py",
      "mimetype": "text/x-python",
      "name": "python",
      "nbconvert_exporter": "python",
      "pygments_lexer": "ipython3",
      "version": "3.8.8"
    }
  },
  "nbformat": 4,
  "nbformat_minor": 5
}
